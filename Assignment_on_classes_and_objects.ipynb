{
  "nbformat": 4,
  "nbformat_minor": 0,
  "metadata": {
    "colab": {
      "provenance": [],
      "collapsed_sections": [],
      "include_colab_link": true
    },
    "kernelspec": {
      "name": "python3",
      "display_name": "Python 3"
    },
    "language_info": {
      "name": "python"
    }
  },
  "cells": [
    {
      "cell_type": "markdown",
      "metadata": {
        "id": "view-in-github",
        "colab_type": "text"
      },
      "source": [
        "<a href=\"https://colab.research.google.com/github/nssr251/python-diariesML/blob/main/Assignment_on_classes_and_objects.ipynb\" target=\"_parent\"><img src=\"https://colab.research.google.com/assets/colab-badge.svg\" alt=\"Open In Colab\"/></a>"
      ]
    },
    {
      "cell_type": "code",
      "execution_count": null,
      "metadata": {
        "colab": {
          "base_uri": "https://localhost:8080/"
        },
        "id": "lDtY2yzWPwAe",
        "outputId": "2cf174f9-d4b5-4d26-b543-d3c4895afaed"
      },
      "outputs": [
        {
          "output_type": "stream",
          "name": "stdout",
          "text": [
            "(20, 35, 35)\n"
          ]
        }
      ],
      "source": [
        "#Assignment-1\n",
        "#Create a class initialize 3 variable x,y,z\n",
        "\n",
        "#create two object of the class s1(10,20,30) s2(5,10,15)\n",
        "#Perform operator overloading (10+10 , 20+15 , 30+5)\n",
        "\n",
        "class operation:\n",
        "  def __init__(self,x,y,z):\n",
        "      self.x=x\n",
        "      self.y=y\n",
        "      self.z=z\n",
        "  def __add__(self,other):\n",
        "     return (self.x+other.y, self.y+other.z,self.z+other.x)\n",
        "\n",
        "s1=operation(10,20,30)\n",
        "s2=operation(5,10,15)\n",
        "print(s1+s2)\n"
      ]
    },
    {
      "cell_type": "code",
      "source": [
        "s2+s1"
      ],
      "metadata": {
        "colab": {
          "base_uri": "https://localhost:8080/"
        },
        "id": "bvtKVSOUR3I4",
        "outputId": "84eba7fc-a988-4880-e248-c92774acfc30"
      },
      "execution_count": null,
      "outputs": [
        {
          "output_type": "execute_result",
          "data": {
            "text/plain": [
              "(25, 40, 25)"
            ]
          },
          "metadata": {},
          "execution_count": 5
        }
      ]
    },
    {
      "cell_type": "code",
      "source": [
        "#Assignment-2\n",
        "#Perform operator overloading in such a way you will compare if the object of the class is greater than the object of same class based on the square\n",
        "#s1(4), s2(5)\n",
        "\n",
        "#find out the square if the square of first object number is greater than square of second object return true otherwise return false\n",
        "#s1(6)>s2(4) ==> True s1(4)>s(6) ==> False\n",
        "\n",
        "class Square:\n",
        "  def __init__(self,square):\n",
        "    self.square=square\n",
        "  def __gt__(self,other):\n",
        "    return self.square>other.square\n",
        "\n",
        "t1=Square(5)\n",
        "t2=Square(6)\n",
        "print(t1<t2) "
      ],
      "metadata": {
        "colab": {
          "base_uri": "https://localhost:8080/"
        },
        "id": "3zGLc4erSGGI",
        "outputId": "fa8d9aab-836b-4924-b136-e2c49e09108d"
      },
      "execution_count": null,
      "outputs": [
        {
          "output_type": "stream",
          "name": "stdout",
          "text": [
            "True\n"
          ]
        }
      ]
    }
  ]
}