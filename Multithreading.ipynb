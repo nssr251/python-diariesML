{
  "nbformat": 4,
  "nbformat_minor": 0,
  "metadata": {
    "colab": {
      "provenance": [],
      "authorship_tag": "ABX9TyPzt+YW62Yfg4ASR0fL7t5j",
      "include_colab_link": true
    },
    "kernelspec": {
      "name": "python3",
      "display_name": "Python 3"
    },
    "language_info": {
      "name": "python"
    }
  },
  "cells": [
    {
      "cell_type": "markdown",
      "metadata": {
        "id": "view-in-github",
        "colab_type": "text"
      },
      "source": [
        "<a href=\"https://colab.research.google.com/github/nssr251/python-diariesML/blob/main/Multithreading.ipynb\" target=\"_parent\"><img src=\"https://colab.research.google.com/assets/colab-badge.svg\" alt=\"Open In Colab\"/></a>"
      ]
    },
    {
      "cell_type": "code",
      "execution_count": null,
      "metadata": {
        "id": "lhse_evVDvIL"
      },
      "outputs": [],
      "source": [
        "#an basic programme to understand Multi threading concept\n"
      ]
    },
    {
      "cell_type": "code",
      "source": [
        "import threading\n",
        "print(\"hello\",threading.current_thread().getName())\n",
        "\n",
        "def sequencedataprint():\n",
        "  for count in range(1,20):\n",
        "    print(count, threading.current_thread(). getName())\n",
        "  \n",
        "thread_1=threading.Thread(target=sequencedataprint,name=\"T1\")\n",
        "thread_2=threading.Thread(target=sequencedataprint,name=\"T2\")\n",
        "thread_3=threading.Thread(target=sequencedataprint,name=\"T3\")\n",
        "\n",
        "thread_1.start()\n",
        "\n",
        "thread_2.start()\n",
        "\n",
        "thread_3.start()\n",
        "\n",
        "thread_2.join()\n",
        "\n",
        "print(\"end of main thread\", threading.current_thread().getName())\n"
      ],
      "metadata": {
        "colab": {
          "base_uri": "https://localhost:8080/"
        },
        "id": "0BpSpT7_D-IH",
        "outputId": "cbcc34a1-ea11-47f7-acac-dd8813836a71"
      },
      "execution_count": null,
      "outputs": [
        {
          "output_type": "stream",
          "name": "stdout",
          "text": [
            "hello MainThread\n",
            "1 T1\n",
            "2 1 T1\n",
            "3T2\n",
            "2 T2\n",
            "3 T2\n",
            "4 T21 \n",
            "5 T2\n",
            "6 T2\n",
            "7 T2\n",
            "8 T2\n",
            "9 T2\n",
            "10 T2\n",
            "11 T1\n",
            "4  T2\n",
            "12 T2\n",
            "13 T2\n",
            "14 T2\n",
            "15 T2\n",
            "16 T2\n",
            "17 T2\n",
            "18 T2\n",
            "19 T2\n",
            "end of main thread MainThread\n",
            "T1\n",
            "5 T1\n",
            "6 T1\n",
            "7 T1\n",
            "8 T1\n",
            "9 T1\n",
            "10 T1\n",
            "11 T1\n",
            "12 T1\n",
            "13 T1\n",
            "14 T1\n",
            "15 T1\n",
            "16 T1\n",
            "17 T1\n",
            "18 T1\n",
            "19 T1\n",
            "T3\n",
            "2 T3\n",
            "3 T3\n",
            "4 T3\n",
            "5 T3\n",
            "6 T3\n",
            "7 T3\n",
            "8 T3\n",
            "9 T3\n",
            "10 T3\n",
            "11 T3\n",
            "12 T3\n",
            "13 T3\n",
            "14 T3\n",
            "15 T3\n",
            "16 T3\n",
            "17 T3\n",
            "18 T3\n",
            "19 T3\n"
          ]
        }
      ]
    }
  ]
}